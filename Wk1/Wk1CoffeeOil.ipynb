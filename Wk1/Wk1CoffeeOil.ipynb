{
 "cells": [
  {
   "cell_type": "markdown",
   "metadata": {
    "deletable": true,
    "editable": true
   },
   "source": [
    "## Linear Function\n",
    "Version/Date: Sept 20\n",
    "\n",
    "### Exercise\n",
    ">PREDICT_400-DL_SEC56\n",
    ">Wk1 Linear Functions Assignment\n",
    "\n",
    "### File(s)\n",
    "Wk1CoffeeOil.ipynb\n",
    "\n",
    "### Description\n",
    "Article\n",
    "\n",
    "#### References\n",
    "Article: \n",
    "http://www.ico.org/documents/cy2014-15/icc-115-6e-study-impact-oil-price-dollar.pdf\n",
    "Data:\n",
    "https://inflationdata.com/Inflation/Inflation_Rate/Historical_Oil_Prices_Table.asp\n",
    "http://www.ico.org/new_historical.asp"
   ]
  },
  {
   "cell_type": "code",
   "execution_count": 53,
   "metadata": {
    "collapsed": false,
    "deletable": true,
    "editable": true
   },
   "outputs": [
    {
     "data": {
      "text/html": [
       "<iframe height=\"600px\" width=\"100%\" src=\"http://www.ico.org/documents/cy2014-15/icc-115-6e-study-impact-oil-price-dollar.pdf\"></iframe>"
      ],
      "text/plain": [
       "<IPython.core.display.HTML object>"
      ]
     },
     "metadata": {},
     "output_type": "display_data"
    }
   ],
   "source": [
    "%%HTML\n",
    "<iframe height=\"600px\" width=\"100%\" src=\"http://www.ico.org/documents/cy2014-15/icc-115-6e-study-impact-oil-price-dollar.pdf\"></iframe>"
   ]
  },
  {
   "cell_type": "code",
   "execution_count": 2,
   "metadata": {
    "collapsed": false,
    "deletable": true,
    "editable": true
   },
   "outputs": [
    {
     "name": "stdout",
     "output_type": "stream",
     "text": [
      "Python 3.5.2 -- Enthought, Inc. (x86_64)\n"
     ]
    }
   ],
   "source": [
    "!python --version"
   ]
  },
  {
   "cell_type": "code",
   "execution_count": 69,
   "metadata": {
    "collapsed": false,
    "deletable": true,
    "editable": true
   },
   "outputs": [],
   "source": [
    "# Use matplotlib.pyplot\n",
    "import matplotlib.pyplot as plt\n",
    "from numpy import linalg, ones\n",
    "import numpy as np"
   ]
  },
  {
   "cell_type": "code",
   "execution_count": 97,
   "metadata": {
    "collapsed": true,
    "deletable": true,
    "editable": true
   },
   "outputs": [],
   "source": [
    "# Yearly data for crude oil prices from 1990 to 2014\n",
    "# Source: https://inflationdata.com/Inflation/Inflation_Rate/Historical_Oil_Prices_Table.asp\n",
    "# Note: this is the independent variable\n",
    "oil=[23.19,\n",
    "     20.20,\n",
    "     19.25,\n",
    "     16.75,\n",
    "     15.66,\n",
    "     16.75,\n",
    "     20.46,\n",
    "     18.64,\n",
    "     11.91,\n",
    "     16.56,\n",
    "     27.39,\n",
    "     23.00,\n",
    "     22.81,\n",
    "     27.69,\n",
    "     37.66,\n",
    "     50.04,\n",
    "     58.30,\n",
    "     64.20,\n",
    "     91.48,\n",
    "     53.48,\n",
    "     71.21,\n",
    "     87.04,\n",
    "     86.46,\n",
    "     91.17,\n",
    "     85.60]\n",
    "\n",
    "# Yearly data for coffee prices from 1990 to 2014\n",
    "# Source: http://www.ico.org/new_historical.asp\n",
    "# Note: this is the dependent variable\n",
    "coffee=[2.97,\n",
    "       2.81,\n",
    "       2.58,\n",
    "       2.47,\n",
    "       3.40,\n",
    "       4.04,\n",
    "       3.43,\n",
    "       4.11,\n",
    "       3.77,\n",
    "       3.43,\n",
    "       3.45,\n",
    "       3.09,\n",
    "       2.92,\n",
    "       2.92,\n",
    "       2.85,\n",
    "       3.26,\n",
    "       3.20,\n",
    "       3.47,\n",
    "       3.76,\n",
    "       3.67,\n",
    "       3.91,\n",
    "       5.19,\n",
    "       5.68,\n",
    "       5.45,\n",
    "       4.99]"
   ]
  },
  {
   "cell_type": "code",
   "execution_count": 98,
   "metadata": {
    "collapsed": false
   },
   "outputs": [
    {
     "data": {
      "image/png": "[encoded data removed]",
      "text/plain": [
       "<matplotlib.figure.Figure at 0x1dc766d1198>"
      ]
     },
     "metadata": {},
     "output_type": "display_data"
    }
   ],
   "source": [
    "# y = (a*x) + b\n",
    "# y is the coffee price (dependent var)\n",
    "# x is the oil price (independent var)\n",
    "# a is the coefficient or slope for the regression\n",
    "# b is the intercept residual value\n",
    "a = 0.45\n",
    "b = 80.63\n",
    "#y = (a * x) + b\n",
    "#plt.plot(y)\n",
    "\n",
    "x = np.asarray(oil)\n",
    "A = np.array([x, np.ones(25)])\n",
    "y = np.asarray(coffee)\n",
    "w = linalg.lstsq(A.T,y)[0]\n",
    "line = w[0] * x + w[1]\n",
    "plt.plot(x, line, 'r-', x, y, 'o')\n",
    "plt.show()\n",
    "\n",
    "# see reference link below for explanation"
   ]
  },
  {
   "cell_type": "code",
   "execution_count": 99,
   "metadata": {
    "collapsed": false
   },
   "outputs": [
    {
     "data": {
      "text/html": [
       "<a href='https://glowingpython.blogspot.com/2012/03/linear-regression-with-numpy.html'>Numpy Lin Reg Reference</a>"
      ],
      "text/plain": [
       "<IPython.core.display.HTML object>"
      ]
     },
     "metadata": {},
     "output_type": "display_data"
    }
   ],
   "source": [
    "%%HTML\n",
    "<a href='https://glowingpython.blogspot.com/2012/03/linear-regression-with-numpy.html'>Numpy Lin Reg Reference</a>"
   ]
  },
  {
   "cell_type": "code",
   "execution_count": 100,
   "metadata": {
    "collapsed": false,
    "deletable": true,
    "editable": true
   },
   "outputs": [
    {
     "data": {
      "text/plain": [
       "<matplotlib.text.Text at 0x1dc767486a0>"
      ]
     },
     "execution_count": 100,
     "metadata": {},
     "output_type": "execute_result"
    }
   ],
   "source": [
    "plt.scatter(oil,coffee)\n",
    "plt.title('Crude Oil vs Coffee 1990-2014')\n",
    "plt.xlabel('Oil Prices')\n",
    "plt.ylabel('Coffee Prices')"
   ]
  },
  {
   "cell_type": "code",
   "execution_count": 101,
   "metadata": {
    "collapsed": false
   },
   "outputs": [
    {
     "data": {
      "image/png": "[encoded data removed]",
      "text/plain": [
       "<matplotlib.figure.Figure at 0x1dc765cf518>"
      ]
     },
     "metadata": {},
     "output_type": "display_data"
    }
   ],
   "source": [
    "plt.show()"
   ]
  },
  {
   "cell_type": "code",
   "execution_count": null,
   "metadata": {
    "collapsed": true
   },
   "outputs": [],
   "source": []
  }
 ],
 "metadata": {
  "kernelspec": {
   "display_name": "Python 3",
   "language": "python",
   "name": "python3"
  },
  "language_info": {
   "codemirror_mode": {
    "name": "ipython",
    "version": 3
   },
   "file_extension": ".py",
   "mimetype": "text/x-python",
   "name": "python",
   "nbconvert_exporter": "python",
   "pygments_lexer": "ipython3",
   "version": "3.5.2"
  }
 },
 "nbformat": 4,
 "nbformat_minor": 2
}
