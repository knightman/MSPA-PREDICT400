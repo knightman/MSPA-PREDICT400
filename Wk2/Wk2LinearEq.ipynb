{
 "cells": [
  {
   "cell_type": "markdown",
   "metadata": {},
   "source": [
    "## Linear Equations using the Echelon or Gauss-Jordan Methods\n",
    "Version/Date: Sept 26, 2017\n",
    "\n",
    "### Exercise\n",
    ">PREDICT_400-DL_SEC56\n",
    ">Wk2 Module\n",
    "\n",
    "### File(s)\n",
    "Wk2LinearEq.ipynb\n",
    "\n",
    "### Instructions\n",
    "Present a system of equations that you have come across professionally (or personally, if that is not an option) that contains three or more linear equations. and three or more variables. Create one if you have to, but be sure to describe the scenario. Follow up by solving your set of equations using both the Echelon and Gauss-Jordan methods. Which method do you prefer? Why?\n",
    "\n"
   ]
  },
  {
   "cell_type": "code",
   "execution_count": 1,
   "metadata": {},
   "outputs": [
    {
     "name": "stdout",
     "output_type": "stream",
     "text": [
      "/mnt/c/Users/andrewknight/Dev/MSPA-PREDICT400/Wk2\r\n"
     ]
    }
   ],
   "source": [
    "!pwd"
   ]
  },
  {
   "cell_type": "code",
   "execution_count": 2,
   "metadata": {},
   "outputs": [
    {
     "name": "stdout",
     "output_type": "stream",
     "text": [
      "Python 3.5.2\r\n"
     ]
    }
   ],
   "source": [
    "!python3 --version"
   ]
  },
  {
   "cell_type": "code",
   "execution_count": 3,
   "metadata": {},
   "outputs": [
    {
     "data": {
      "text/markdown": [
       "This business example looks a costs for manufacturing three different product models. Comparing revenue and manufacturing \n",
       "costs for each, setup a system of linear equations with three variables. \n",
       "Per unit costs (in USD) for producing three different models options (one,two,three) number of units defined by x, y, z.\n",
       "Total manufacturing targets for each are listed in the total column.\n",
       "\n",
       "I have tried different variations on this scenario, trying different values to test the output. I tested scenarios involving \n",
       "cost, revenue, build times and other variables. The numbers have been adjusted for this example. \n",
       "\n",
       "Testing both the Echelon method and Gaussian-Jordan method by hand, I verified the output using linalg.solve in code below.\n",
       "TODO: I have not yet normalized the values to be non-negative. I believe scipy can be used for this but not complete.\n",
       "\n",
       "This primary question to answer is... **How many of each model should we build to hit the desired total targets? **\n",
       "\n",
       "| Models       | one   | two   | three | Total  |\n",
       "| ------------ | ------| ------| ------| -------|\n",
       "| Number       | x     | y     | z     | 500    |\n",
       "| Revenue      | 120   | 160   | 200   | 87000  |\n",
       "| Cost         | 18    | 20    | 25    | 11000  |"
      ],
      "text/plain": [
       "<IPython.core.display.Markdown object>"
      ]
     },
     "metadata": {},
     "output_type": "display_data"
    }
   ],
   "source": [
    "%%markdown\n",
    "This business example looks a costs for manufacturing three different product models. Comparing revenue and manufacturing \n",
    "costs for each, setup a system of linear equations with three variables. \n",
    "Per unit costs (in USD) for producing three different models options (one,two,three) number of units defined by x, y, z.\n",
    "Total manufacturing targets for each are listed in the total column.\n",
    "\n",
    "I have tried different variations on this scenario, trying different values to test the output. I tested scenarios involving \n",
    "cost, revenue, build times and other variables. The numbers have been adjusted for this example. \n",
    "\n",
    "Testing both the Echelon method and Gaussian-Jordan method by hand, I verified the output using linalg.solve in code below.\n",
    "TODO: I have not yet normalized the values to be non-negative. I believe scipy can be used for this but not complete.\n",
    "\n",
    "This primary question to answer is... **How many of each model should we build to hit the desired total targets? **\n",
    "\n",
    "| Models       | one   | two   | three | Total  |\n",
    "| ------------ | ------| ------| ------| -------|\n",
    "| Number       | x     | y     | z     | 500    |\n",
    "| Revenue      | 120   | 160   | 200   | 87000  |\n",
    "| Cost         | 18    | 20    | 25    | 11000  |"
   ]
  },
  {
   "cell_type": "code",
   "execution_count": 4,
   "metadata": {},
   "outputs": [],
   "source": [
    "import numpy as np"
   ]
  },
  {
   "cell_type": "code",
   "execution_count": 5,
   "metadata": {},
   "outputs": [
    {
     "name": "stdout",
     "output_type": "stream",
     "text": [
      "\n",
      "A matrix:\n",
      "[[  1   1   1]\n",
      " [120 160 200]\n",
      " [ 18  20  25]]\n",
      "\n",
      "B matrix:\n",
      "[[  500]\n",
      " [87000]\n",
      " [11000]]\n",
      "\n",
      "Xsolve = np.linalg.solveA,B\n",
      "Xsolve matrix:\n",
      "[[  42.]\n",
      " [ 242.]\n",
      " [ 217.]]\n"
     ]
    }
   ],
   "source": [
    "# Use the following system of equations\n",
    "# ax + by + cz = 500\n",
    "# dx - ey + fz = 87000\n",
    "# gx + hy - iz = 11000\n",
    "\n",
    "#Three product models one, two, three\n",
    "count_one = 1\n",
    "count_two = 1\n",
    "count_three = 1\n",
    "rev_one = 120\n",
    "rev_two = 160\n",
    "rev_three = 200\n",
    "cost_one = 18\n",
    "cost_two = 20\n",
    "cost_three = 25\n",
    "\n",
    "count_total = 500\n",
    "rev_total = 87000\n",
    "cost_total = 11000\n",
    "\n",
    "# Find the solution using np\n",
    "A = np.array([[count_one,count_two,count_three],[rev_one,rev_two,rev_three],[cost_one,cost_two,cost_three]])\n",
    "print('\\nA matrix:\\n' + str(A))\n",
    "\n",
    "B = np.array([[count_total],[rev_total],[cost_total]]) #soln values as a col vector\n",
    "print('\\nB matrix:\\n' + str(B))\n",
    "    \n",
    "try:\n",
    "    Xsolve = np.rint(np.linalg.solve(A,B)) #Alt way to solve using np.linalg.solve\n",
    "    print('\\nXsolve = np.linalg.solveA,B\\nXsolve matrix:\\n' + str(Xsolve))\n",
    "except LinAlgError:\n",
    "    X = np.linalg.lstsq(A,B)[0]\n",
    "    print('\\nX = np.linalg.solveA,B\\nX matrix:\\n' + str(X))"
   ]
  },
  {
   "cell_type": "code",
   "execution_count": 6,
   "metadata": {},
   "outputs": [],
   "source": [
    "# Note: see handwritten solutions attached.\n",
    "# After working through the equations using Echelon and Gauss-Jordan for this example, \n",
    "# I prefer the matrix manipulation of the Gauss-Jordan method over the Echelon for systems of equations\n",
    "# consisting of three variables. Echelon is my preference for systems involving only two variables as it only \n",
    "# requires two transformations."
   ]
  },
  {
   "cell_type": "code",
   "execution_count": 3,
   "metadata": {},
   "outputs": [
    {
     "data": {
      "text/html": [
       "<iframe height=\"400px\" width=\"100%\" src=\"https://github.com/knightman/MSPA-PREDICT400/blob/master/Wk2/SolutionNotes.jpg\"></iframe>"
      ],
      "text/plain": [
       "<IPython.core.display.HTML object>"
      ]
     },
     "metadata": {},
     "output_type": "display_data"
    }
   ],
   "source": [
    "%%HTML\n",
    "<iframe height=\"400px\" width=\"100%\" src=\"https://github.com/knightman/MSPA-PREDICT400/blob/master/Wk2/SolutionNotes.jpg\"></iframe>"
   ]
  },
  {
   "cell_type": "code",
   "execution_count": null,
   "metadata": {},
   "outputs": [],
   "source": []
  }
 ],
 "metadata": {
  "kernelspec": {
   "display_name": "Python 3",
   "language": "python",
   "name": "python3"
  },
  "language_info": {
   "codemirror_mode": {
    "name": "ipython",
    "version": 3
   },
   "file_extension": ".py",
   "mimetype": "text/x-python",
   "name": "python",
   "nbconvert_exporter": "python",
   "pygments_lexer": "ipython3",
   "version": "3.5.2"
  }
 },
 "nbformat": 4,
 "nbformat_minor": 2
}
