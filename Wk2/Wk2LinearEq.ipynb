{
 "cells": [
  {
   "cell_type": "markdown",
   "metadata": {},
   "source": [
    "## Linear Equations using the Echelon or Gauss-Jordan Methods\n",
    "Version/Date: Sept 26, 2017\n",
    "\n",
    "### Exercise\n",
    ">PREDICT_400-DL_SEC56\n",
    ">Wk2 Module\n",
    "\n",
    "### File(s)\n",
    "Wk2LinearEq.ipynb\n",
    "\n",
    "### Instructions\n",
    "Present a system of equations that you have come across professionally (or personally, if that is not an option) that contains three or more linear equations. and three or more variables. Create one if you have to, but be sure to describe the scenario. Follow up by solving your set of equations using both the Echelon and Gauss-Jordan methods. Which method do you prefer? Why?\n",
    "\n"
   ]
  },
  {
   "cell_type": "code",
   "execution_count": 1,
   "metadata": {},
   "outputs": [
    {
     "name": "stdout",
     "output_type": "stream",
     "text": [
      "/mnt/c/Users/andrewknight/Dev/MSPA-PREDICT400/Wk2\r\n"
     ]
    }
   ],
   "source": [
    "!pwd"
   ]
  },
  {
   "cell_type": "code",
   "execution_count": 2,
   "metadata": {},
   "outputs": [
    {
     "name": "stdout",
     "output_type": "stream",
     "text": [
      "Python 3.5.2\r\n"
     ]
    }
   ],
   "source": [
    "!python3 --version"
   ]
  },
  {
   "cell_type": "code",
   "execution_count": 3,
   "metadata": {},
   "outputs": [
    {
     "data": {
      "text/markdown": [
       "This business example looks at the following system of linear equations to determine product model costs using C(x)=ax+b, \n",
       "where the Total Cost C is determined by the variable cost **_x_** times the number of units **_a_** plus the fixed cost **_b_**.\n",
       "> Model A: C(x) = 1200 = \n",
       "\n",
       "> Model B: \n",
       "\n",
       "> Model C: \n",
       "\n",
       "> Model D: \n",
       "\n",
       "We want to determine the best mix of new products to produce by solving the system of linear equations. For this exercise, \n",
       "we will use the both the Echelon and Gauss-Jordan methods to solve for the optimal combination"
      ],
      "text/plain": [
       "<IPython.core.display.Markdown object>"
      ]
     },
     "metadata": {},
     "output_type": "display_data"
    }
   ],
   "source": [
    "%%markdown\n",
    "This business example looks at the following system of linear equations to determine product model costs using C(x)=ax+b, \n",
    "where the Total Cost C is determined by the variable cost **_x_** times the number of units **_a_** plus the fixed cost **_b_**.\n",
    "> Model A: C(x) = 1200 = \n",
    "\n",
    "> Model B: \n",
    "\n",
    "> Model C: \n",
    "\n",
    "> Model D: \n",
    "\n",
    "We want to determine the best mix of new products to produce by solving the system of linear equations. For this exercise, \n",
    "we will use the both the Echelon and Gauss-Jordan methods to solve for the optimal combination"
   ]
  },
  {
   "cell_type": "code",
   "execution_count": 5,
   "metadata": {},
   "outputs": [],
   "source": [
    "import numpy as np\n",
    "import matplotlib.pyplot as plt"
   ]
  },
  {
   "cell_type": "code",
   "execution_count": null,
   "metadata": {},
   "outputs": [],
   "source": []
  }
 ],
 "metadata": {
  "kernelspec": {
   "display_name": "Python 3",
   "language": "python",
   "name": "python3"
  },
  "language_info": {
   "codemirror_mode": {
    "name": "ipython",
    "version": 3
   },
   "file_extension": ".py",
   "mimetype": "text/x-python",
   "name": "python",
   "nbconvert_exporter": "python",
   "pygments_lexer": "ipython3",
   "version": "3.5.2"
  }
 },
 "nbformat": 4,
 "nbformat_minor": 2
}
