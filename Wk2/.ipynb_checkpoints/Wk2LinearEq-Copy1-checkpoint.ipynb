{
 "cells": [
  {
   "cell_type": "markdown",
   "metadata": {},
   "source": [
    "## Linear Equations using the Echelon or Gauss-Jordan Methods\n",
    "Version/Date: Sept 26, 2017\n",
    "\n",
    "### Exercise\n",
    ">PREDICT_400-DL_SEC56\n",
    ">Wk2 Module\n",
    "\n",
    "### File(s)\n",
    "Wk2LinearEq.ipynb\n",
    "\n",
    "### Instructions\n",
    "Present a system of equations that you have come across professionally (or personally, if that is not an option) that contains three or more linear equations. and three or more variables. Create one if you have to, but be sure to describe the scenario. Follow up by solving your set of equations using both the Echelon and Gauss-Jordan methods. Which method do you prefer? Why?\n",
    "\n"
   ]
  },
  {
   "cell_type": "code",
   "execution_count": 9,
   "metadata": {},
   "outputs": [
    {
     "name": "stdout",
     "output_type": "stream",
     "text": [
      "/mnt/c/Users/andrewknight/Dev/MSPA-PREDICT400/Wk2\r\n"
     ]
    }
   ],
   "source": [
    "!pwd"
   ]
  },
  {
   "cell_type": "code",
   "execution_count": 10,
   "metadata": {},
   "outputs": [
    {
     "name": "stdout",
     "output_type": "stream",
     "text": [
      "Python 3.5.2\r\n"
     ]
    }
   ],
   "source": [
    "!python3 --version"
   ]
  },
  {
   "cell_type": "code",
   "execution_count": 3,
   "metadata": {},
   "outputs": [
    {
     "data": {
      "text/markdown": [
       "This business example looks at the following system of linear equations to determine product model costs using C(x)=ax+b, \n",
       "where the Total Cost C is determined by the variable cost **_x_** times the number of units **_a_** plus the fixed cost **_b_**.\n",
       "\n",
       "If Revenue is equal to the price per unit times the number of units, than we want to use the system of linear equations\n",
       "to determine the number of each type of model we should produce using\n",
       "P(a) = R(a) - C(a) = (price * a) - (a * cost + b).\n",
       "Assume a fixed cost of 1500 for each model.\n",
       "\n",
       "> Model A Price: 490 USD; Cost: 365 USD\n",
       "\n",
       "> Model B Price: 410 USD; Cost: 300 USD\n",
       "\n",
       "> Model C Price: 550 USD; Cost: 415 USD\n",
       "\n",
       "        > Model A Price: 490 USD; Cost: 365 USD\n",
       "\n",
       "> Model B Price: 410 USD; Cost: 300 USD\n",
       "\n",
       "> Model C Price: 550 USD; Cost: 415 USD\n",
       "We want to determine the best mix of new model units to hit a certain revenue number by solving the system of linear equations. \n",
       "For this exercise, we will use the both the Echelon and Gauss-Jordan methods to solve for the optimal combination.\n",
       "\n",
       "We could write the data above in the form\n",
       "\n",
       "> y1(a) = (490-365)a + 1500 = 125*a + 1500\n",
       "\n",
       "> y2(a) = (410 - 300)a + 1500 = 110*a + 1500 \n",
       "\n",
       "> y3(a) = (550 - 415)a + 1500 = 135*a + 1500 "
      ],
      "text/plain": [
       "<IPython.core.display.Markdown object>"
      ]
     },
     "metadata": {},
     "output_type": "display_data"
    }
   ],
   "source": [
    "%%markdown\n",
    "This business example looks at the following system of linear equations to determine product model costs using C(x)=ax+b, \n",
    "where the Total Cost C is determined by the variable cost **_x_** times the number of units **_a_** plus the fixed cost **_b_**.\n",
    "\n",
    "If Revenue is equal to the price per unit times the number of units, than we want to use the system of linear equations\n",
    "to determine the number of each type of model we should produce using\n",
    "P(a) = R(a) - C(a) = (z * a) - (a * x + b) = a*(z - x) + b\n",
    "Assume a fixed cost of 1500 for each model. Unit price is **_z_**.\n",
    "\n",
    "#> Model A Price: 490 USD; Cost: 365 USD\n",
    "#> Model B Price: 410 USD; Cost: 300 USD\n",
    "#> Model C Price: 550 USD; Cost: 415 USD\n",
    "\n",
    "> Model A Revenue Target: 120000 USD; Cost: 365 USD; Price\n",
    "\n",
    "> Model B Revenue Target: 80000 USD\n",
    "\n",
    "#> Model C Revenue Target: 75000 USD\n",
    "        \n",
    "We want to determine the best mix of new model units and expected revenue by solving the system of linear equations. \n",
    "For this exercise, we will use the both the Echelon and Gauss-Jordan methods to solve for the optimal combination.\n",
    "\n",
    "We need to find target unit count and estimated total revenue for the system.\n",
    "We could write the Profit data above in the form.\n",
    "\n",
    "> P(A) = y1 = (490-365)a + 1500 = 125*a + 1500\n",
    "\n",
    "> P(A) = y2 = (410 - 300)a + 1500 = 110*a + 1800\n",
    "\n",
    "#> P(A) = y3 = (550 - 415)a + 1500 = 135*a + 1850\n",
    "\n",
    "\n",
    "So how many of each model, and at what cost should we price them to achieve the desired revenue?"
   ]
  },
  {
   "cell_type": "code",
   "execution_count": 75,
   "metadata": {},
   "outputs": [],
   "source": [
    "import numpy, matplotlib\n",
    "import numpy as np\n",
    "import matplotlib.pyplot as plt"
   ]
  },
  {
   "cell_type": "code",
   "execution_count": 79,
   "metadata": {},
   "outputs": [
    {
     "name": "stdout",
     "output_type": "stream",
     "text": [
      "A is \n",
      "[[  1.     1.     1.  ]\n",
      " [ 12.    16.    20.  ]\n",
      " [  1.     1.25   1.4 ]]\n",
      "\n",
      "A_inv is \n",
      "[[  6.5     0.375 -10.   ]\n",
      " [ -8.     -1.     20.   ]\n",
      " [  2.5     0.625 -10.   ]]\n",
      "\n",
      "\n",
      "Soln is \n",
      "[[-189.5]\n",
      " [ 400. ]\n",
      " [-187.5]]\n",
      "check soln\n",
      "True\n"
     ]
    }
   ],
   "source": [
    "# test\n",
    "A = np.matrix([[1,1,1],[12,16,20],[1.00,1.25,1.40]])\n",
    "#A = np.matrix([[1,1,1],[12,16,20],[1.00,2.00,3.00]])\n",
    "print('A is \\n' + str(A))\n",
    "A_inv = np.linalg.inv(A)\n",
    "print('\\nA_inv is \\n' + str(A_inv) + '\\n')\n",
    "#B = np.matrix([[23],[376],[28.45]])\n",
    "B = np.matrix([[23],[376],[48]])\n",
    "\n",
    "X = A_inv * B\n",
    "print('\\nSoln is \\n' + str(X))\n",
    "\n",
    "#soln2 = np.linalg.solve(A_inv,B)\n",
    "#print('\\nSoln2 is \\n' + str(soln2))\n",
    "\n",
    "print('check soln')\n",
    "allgood = np.allclose(np.dot(A, X), B)\n",
    "print(allgood)\n"
   ]
  },
  {
   "cell_type": "code",
   "execution_count": 74,
   "metadata": {},
   "outputs": [
    {
     "name": "stdout",
     "output_type": "stream",
     "text": [
      "\n",
      "Daily Orders\n",
      "\n",
      "[[ 456.9]\n",
      " [-173.6]\n",
      " [-183.3]]\n",
      "\n",
      "matrix A [[ 490    1 -490]\n",
      " [ 410    1 -410]\n",
      " [ 550    1 -550]]\n",
      "\n",
      "matrix B [[150]\n",
      " [180]\n",
      " [185]]\n",
      "[[  6.75675674e-03]\n",
      " [  1.65135135e+02]\n",
      " [ -6.75675678e-03]]\n"
     ]
    },
    {
     "data": {
      "image/png": "[encoded data removed]",
      "text/plain": [
       "<matplotlib.figure.Figure at 0x7feb3ffb2048>"
      ]
     },
     "metadata": {},
     "output_type": "display_data"
    }
   ],
   "source": [
    "# from the info above we can represent this as an augmented matrix\n",
    "#mA = [[125,-1],[110, -1]]\n",
    "#mX = np.array(x,y)\n",
    "#mB =np.array([-1500],[-1800])\n",
    "#invmA = np.inv(mA)\n",
    "#result = np.inalg.solve(invmA,mB)\n",
    "\n",
    "#TODO: fix this, see Lial Pg 97-99 and my previous A.T example\n",
    "\n",
    "# Example from Lial Pg102 Ex#59:\n",
    "#M= [[2, 4, 2], [2, 1, 2], [2, 1, 3]]\n",
    "M = [[1,1,1],[410,490,550],[300,340,420]]\n",
    "M= np.matrix(M)\n",
    "#O= [72,48,60]\n",
    "O = [100,1450,1060]\n",
    "O= np.transpose(np.matrix(O))\n",
    "result= np.linalg.solve(M,O)\n",
    "print ('\\nDaily Orders\\n')\n",
    "print (result)\n",
    "\n",
    "A = np.matrix([[490,1,-490],\n",
    "               [410,1,-410],\n",
    "               [550,1,-550]])\n",
    "#Ainv = np.linalg.inv(A)\n",
    "#Ainv = np.transpose(A)\n",
    "B = np.matrix([[150],[180],[185]])\n",
    "print('\\nmatrix A ' + str(A))\n",
    "print('\\nmatrix B ' + str(B))\n",
    "#Bt = np.transpose(B)\n",
    "#print('transpose of B ' + str(Bt))\n",
    "lsq = np.linalg.lstsq(A,B)[0]\n",
    "#solveit = np.linalg.solve(A,B)\n",
    "print(lsq)\n",
    "np.linspace(-10,10,2 )\n",
    "plt.plot(lsq[0] + lsq[1] + lsq[2])\n",
    "plt.show()\n",
    "\n"
   ]
  },
  {
   "cell_type": "code",
   "execution_count": 10,
   "metadata": {},
   "outputs": [
    {
     "data": {
      "image/png": "[encoded data removed]",
      "text/plain": [
       "<matplotlib.figure.Figure at 0x7feb40212f98>"
      ]
     },
     "metadata": {},
     "output_type": "display_data"
    }
   ],
   "source": [
    "x = np.linspace(-10,40,100)\n",
    "y1 = (125)*x + 1500\n",
    "y2 = (110)*x + 1800\n",
    "y3 = (135)*x + 1850\n",
    "\n",
    "plt.xlabel('x-axis')\n",
    "plt.ylabel('y-axis')\n",
    "plt.title('Total Cost/Rev')\n",
    "plt.plot(x, y1, 'r')\n",
    "plt.plot(x, y2, 'b')\n",
    "plt.plot(x, y3, 'g')\n",
    "plt.show()"
   ]
  },
  {
   "cell_type": "code",
   "execution_count": 13,
   "metadata": {},
   "outputs": [
    {
     "data": {
      "image/png": "[encoded data removed]",
      "text/plain": [
       "<matplotlib.figure.Figure at 0x7fecec7f70f0>"
      ]
     },
     "metadata": {},
     "output_type": "display_data"
    }
   ],
   "source": [
    "# C(x) = a*x + b\n",
    "x1 = np.linspace(0, 100, 60)\n",
    "cost = 365 * x1 + 1850\n",
    "\n",
    "# Selling price per unit is $450\n",
    "# R(x) = selling price per unit (# of units)\n",
    "# P(x) = R(x)-C(x)\n",
    "rev = 490 * x1\n",
    "profit = rev - cost\n",
    "\n",
    "plt.plot(cost, 'b')\n",
    "plt.plot(rev, 'g')\n",
    "#plt.plot(profit, 'r')\n",
    "plt.title('Cost/Revenue Breakeven')\n",
    "plt.xlabel('# of Units')\n",
    "plt.ylabel('Total Cost/Revenue')\n",
    "plt.show()\n",
    "\n",
    "# the resulting plot gives the break even point for these values."
   ]
  },
  {
   "cell_type": "code",
   "execution_count": null,
   "metadata": {},
   "outputs": [],
   "source": []
  }
 ],
 "metadata": {
  "kernelspec": {
   "display_name": "Python 3",
   "language": "python",
   "name": "python3"
  },
  "language_info": {
   "codemirror_mode": {
    "name": "ipython",
    "version": 3
   },
   "file_extension": ".py",
   "mimetype": "text/x-python",
   "name": "python",
   "nbconvert_exporter": "python",
   "pygments_lexer": "ipython3",
   "version": "3.5.2"
  }
 },
 "nbformat": 4,
 "nbformat_minor": 2
}
