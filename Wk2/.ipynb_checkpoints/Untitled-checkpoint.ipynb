{
 "cells": [
  {
   "cell_type": "markdown",
   "metadata": {},
   "source": [
    "## Untitled"
   ]
  },
  {
   "cell_type": "code",
   "execution_count": 2,
   "metadata": {},
   "outputs": [
    {
     "name": "stdout",
     "output_type": "stream",
     "text": [
      "Python 3.5.2\r\n"
     ]
    }
   ],
   "source": [
    "!python3 --version"
   ]
  },
  {
   "cell_type": "code",
   "execution_count": 5,
   "metadata": {},
   "outputs": [],
   "source": [
    "# import numpy and matplotlib packages\n",
    "import numpy as np\n",
    "import matplotlib.pyplot as plt"
   ]
  },
  {
   "cell_type": "code",
   "execution_count": 42,
   "metadata": {},
   "outputs": [
    {
     "data": {
      "image/png": "[encoded data removed]",
      "text/plain": [
       "<matplotlib.figure.Figure at 0x7f91b42bad68>"
      ]
     },
     "metadata": {},
     "output_type": "display_data"
    }
   ],
   "source": [
    "# C(x) = a*x + b\n",
    "x1 = np.linspace(0, 100, 60)\n",
    "cost = 265 * x1 + 1850\n",
    "\n",
    "# Selling price per unit is $450\n",
    "# R(x) = selling price per unit (# of units)\n",
    "# P(x) = R(x)-C(x)\n",
    "rev = 380 * x1\n",
    "profit = rev - cost\n",
    "\n",
    "plt.plot(cost, 'b')\n",
    "#plt.plot(rev, 'g')\n",
    "plt.plot(rev, 'r')\n",
    "plt.title('Cost/Revenue Breakeven')\n",
    "plt.xlabel('# of Units')\n",
    "plt.ylabel('Total Cost/Revenue')\n",
    "plt.show()\n",
    "\n",
    "# the resulting plot gives the break even point for these values."
   ]
  },
  {
   "cell_type": "code",
   "execution_count": null,
   "metadata": {},
   "outputs": [],
   "source": [
    "# Use the following system of equations\n",
    "# ax + by + cz = 500\n",
    "# dx - ey + fz = 400\n",
    "# gx + hy - iz = 150\n",
    "\n",
    "#Three product models one, two, three\n",
    "count_one = 1\n",
    "count_two = 1\n",
    "count_three = 1\n",
    "rev_one = 120\n",
    "rev_two = 160\n",
    "rev_three = 200\n",
    "cost_one = 18\n",
    "cost_two = 20\n",
    "cost_three = 25\n",
    "\n",
    "count_total = 500\n",
    "rev_total = 87000\n",
    "cost_total = 11000\n",
    "\n",
    "# Find the solution using np\n",
    "#A = np.array([[1,1,1],[12,16,20],[1.00,1.25,1.40]])\n",
    "A = np.array([[count_one,count_two,count_three],[rev_one,rev_two,rev_three],[cost_one,cost_two,cost_three]])\n",
    "print('\\nA matrix:\\n' + str(A))\n",
    "#A_inv = np.linalg.inv(A) #obtain the inverse matrix of A\n",
    "#print('\\nInverse A matrix:\\n' + str(np.rint(A_inv)))\n",
    "#I = np.rint(np.dot(A_inv,A)) #Idnetity matric by dot multiplying matrix A and its inverse, convert to int\n",
    "#print('\\nIdentity matrix:\\n' + str(I))\n",
    "#B = np.array([[23],[376],[28.45]])\n",
    "B = np.array([[count_total],[rev_total],[cost_total]]) #soln values as a col vector\n",
    "print('\\nB matrix:\\n' + str(B))\n",
    "    \n",
    "try:\n",
    "    Xsolve = np.rint(np.linalg.solve(A,B)) #Alt way to solve using np.linalg.solve\n",
    "    print('\\nXsolve = np.linalg.solveA,B\\nXsolve matrix:\\n' + str(Xsolve))\n",
    "except LinAlgError:\n",
    "    X = np.linalg.lstsq(A,B)[0]\n",
    "    print('\\nX = np.linalg.solveA,B\\nX matrix:\\n' + str(X))"
   ]
  },
  {
   "cell_type": "code",
   "execution_count": null,
   "metadata": {},
   "outputs": [],
   "source": []
  }
 ],
 "metadata": {
  "kernelspec": {
   "display_name": "Python 3",
   "language": "python",
   "name": "python3"
  },
  "language_info": {
   "codemirror_mode": {
    "name": "ipython",
    "version": 3
   },
   "file_extension": ".py",
   "mimetype": "text/x-python",
   "name": "python",
   "nbconvert_exporter": "python",
   "pygments_lexer": "ipython3",
   "version": "3.5.2"
  }
 },
 "nbformat": 4,
 "nbformat_minor": 2
}
