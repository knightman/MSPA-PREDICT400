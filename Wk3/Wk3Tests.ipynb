{
 "cells": [
  {
   "cell_type": "code",
   "execution_count": null,
   "metadata": {},
   "outputs": [],
   "source": []
  },
  {
   "cell_type": "markdown",
   "metadata": {},
   "source": [
    "#### Goal: Cost minimization of the objective function: C = 18y1 + 20y2 + 25y3 \n",
    "This function represents the total cost for three different products manufactured and sold by our company.\n",
    "\n",
    "The constraints for this linear program example:\n",
    "\n",
    "> 120y1 + 160y2 + 200y3 >= 90000\n",
    "\n",
    "> y1 + y2 + y3 >= 600\n",
    "\n",
    "> y1 + 2y2 >= 350\n",
    "\n",
    "> y1, y2, y3 >=0\n",
    "\n",
    "The first constraint function gives the total revenue target (at least $90,000 USD). The second limiting function gives the minimum total number of units we want to produce with this batch (at least 600). Also given demand for the first two models is high, we must make at least 350 between y1 and y2 units. Based on past sales, we expect we'll need about twice as many y2 as y1 models. Obviously, y1, y2, y3 all must be >= 0.\n",
    "\n",
    "#### How many of each units should we produce to limit minimize our costs?\n"
   ]
  },
  {
   "cell_type": "code",
   "execution_count": 3,
   "metadata": {},
   "outputs": [
    {
     "name": "stdout",
     "output_type": "stream",
     "text": [
      "[[-2, -1], [-1, -2]]\n",
      "[-11, -11]\n",
      "Optimization terminated successfully.\n",
      "         Current function value: 22.000000   \n",
      "         Iterations: 3\n",
      "     fun: 22.0\n",
      " message: 'Optimization terminated successfully.'\n",
      "     nit: 3\n",
      "   slack: array([ 11.,   0.])\n",
      "  status: 0\n",
      " success: True\n",
      "       x: array([ 11.,   0.])\n"
     ]
    }
   ],
   "source": [
    "# Cost objective function is:\n",
    "# C = 18y1 + 20y2 + 25y3\n",
    "# Rewrite Constraints:\n",
    "# Revenue: 120x1 + 160x2 + 200x3 >=90000\n",
    "# Numbers: x1 + x2 + x3 >= 600\n",
    "# Condition: x1 + 3x2 >= 350\n",
    "# x1,x2,x3 >= 0\n",
    "\n",
    "# coefficients of the objective function\n",
    "z = [2,21]\n",
    "#z = [22,44,33]\n",
    "\n",
    "# left-hand coefficients - tableau matrix\n",
    "#A = [[1,1,1],[18,20,25]]\n",
    "A = [[-2,-1],[-1,-2]]\n",
    "\n",
    "#A = [[-1,-2,-1],[-1,0,-1],[-3,-2,-2]]\n",
    "print(A)\n",
    "\n",
    "# right-hand coefficients - \n",
    "#b = [500,12000]\n",
    "b = [-11,-11]\n",
    "#b = [-3,-3,-8]\n",
    "print(b)\n",
    "\n",
    "from scipy.optimize import linprog as lp\n",
    "\n",
    "x1_bounds = (0,None)\n",
    "x2_bounds = (0,None)\n",
    "x3_bounds = (0,None)\n",
    "\n",
    "res = lp(z, A_ub=A, b_ub=b, bounds=(x1_bounds, x2_bounds), method='simplex', options={\"disp\": True})\n",
    "print(res)\n",
    "\n",
    "#print('\\nScipy Optimize Optimal value:', res.fun, '\\n x1, x2, x3:', res.x)"
   ]
  }
 ],
 "metadata": {
  "kernelspec": {
   "display_name": "Python 3",
   "language": "python",
   "name": "python3"
  },
  "language_info": {
   "codemirror_mode": {
    "name": "ipython",
    "version": 3
   },
   "file_extension": ".py",
   "mimetype": "text/x-python",
   "name": "python",
   "nbconvert_exporter": "python",
   "pygments_lexer": "ipython3",
   "version": "3.5.2"
  }
 },
 "nbformat": 4,
 "nbformat_minor": 2
}
