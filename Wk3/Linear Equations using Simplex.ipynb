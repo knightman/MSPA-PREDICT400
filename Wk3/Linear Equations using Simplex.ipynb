{
 "cells": [
  {
   "cell_type": "markdown",
   "metadata": {},
   "source": [
    "\n",
    "## Linear Equations using the Simplex Method\n",
    "Version/Date: Oct 3, 2017\n",
    "\n",
    "### Exercise\n",
    ">PREDICT_400-DL_SEC56\n",
    ">Week3 Module\n",
    "\n",
    "### File(s)\n",
    "Linear Equations using Simplex.ipynb\n",
    "\n",
    "### Instructions\n",
    "Present a model involving minimization that contains three or more equations (ideally a system that you have come across professionally or personally) and solve the system using the Simplex Method and again using Python. Be sure to share your Python code and output.\n",
    "\n",
    "### Reference\n",
    "I will be using a modification of my example from Week2. See details here:\n",
    "<a href='http://andrewdavidknight.com/projects/mspa-predict400/wk2/Wk2LinearEq.html'>Wk2 Linear Eq Example</a>\n",
    "\n",
    "### Description\n",
    "The code below shows an example of three product models and an attempt to optimize the"
   ]
  },
  {
   "cell_type": "code",
   "execution_count": 20,
   "metadata": {},
   "outputs": [
    {
     "name": "stdout",
     "output_type": "stream",
     "text": [
      "[500, 13500]\n",
      "[[1, 1, 1], [-18, -20, -89]]\n",
      "Optimization terminated successfully.\n",
      "         Current function value: -100000.000000\n",
      "         Iterations: 1\n",
      "     fun: -100000.0\n",
      " message: 'Optimization terminated successfully.'\n",
      "     nit: 1\n",
      "   slack: array([     0.,  58000.])\n",
      "  status: 0\n",
      " success: True\n",
      "       x: array([   0.,    0.,  500.])\n",
      "\n",
      "Scipy Optimize Optimal value: -100000.0 \n",
      " x1, x2, x3: [   0.    0.  500.]\n"
     ]
    }
   ],
   "source": [
    "from scipy.optimize import linprog as lp\n",
    "\n",
    "# Revenue, objective function is:\n",
    "# z = 120x1 + 160x2 + 200x3\n",
    "# Constraints:\n",
    "# Numbers: x1 + x2 + x3 <= 500\n",
    "# Costs: 18x1 + 20x2 + 25x3 <= 12000\n",
    "# x1,x2,x3 >= 0\n",
    "\n",
    "# coefficients of the objective function\n",
    "z = [-120,-60,-200]\n",
    "\n",
    "# right-hand coefficients - \n",
    "#b = [500,12000]\n",
    "b = [500,13500]\n",
    "print(b)\n",
    "\n",
    "# left-hand coefficients - tableau matrix\n",
    "#A = [[1,1,1],[18,20,25]]\n",
    "A = [[1,1,1],[-18,-20,-89]]\n",
    "print(A)\n",
    "\n",
    "x1_bounds = (0,None)\n",
    "x2_bounds = (0,None)\n",
    "x3_bounds = (0,None)\n",
    "\n",
    "res = lp(z, A_ub=A, b_ub=b, bounds=(x1_bounds, x2_bounds, x3_bounds), method='simplex', options={\"disp\": True})\n",
    "print(res)\n",
    "\n",
    "print('\\nScipy Optimize Optimal value:', res.fun, '\\n x1, x2, x3:', res.x)"
   ]
  },
  {
   "cell_type": "code",
   "execution_count": null,
   "metadata": {},
   "outputs": [],
   "source": []
  }
 ],
 "metadata": {
  "kernelspec": {
   "display_name": "Python 3",
   "language": "python",
   "name": "python3"
  },
  "language_info": {
   "codemirror_mode": {
    "name": "ipython",
    "version": 3
   },
   "file_extension": ".py",
   "mimetype": "text/x-python",
   "name": "python",
   "nbconvert_exporter": "python",
   "pygments_lexer": "ipython3",
   "version": "3.5.2"
  }
 },
 "nbformat": 4,
 "nbformat_minor": 2
}
