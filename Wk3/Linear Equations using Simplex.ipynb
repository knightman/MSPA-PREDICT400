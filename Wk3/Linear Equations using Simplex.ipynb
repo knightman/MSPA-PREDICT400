{
 "cells": [
  {
   "cell_type": "markdown",
   "metadata": {},
   "source": [
    "\n",
    "## Linear Equations using the Simplex Method\n",
    "Version/Date: Oct 3, 2017\n",
    "\n",
    "### Exercise\n",
    ">PREDICT_400-DL_SEC56\n",
    ">Week3 Module\n",
    "\n",
    "### File(s)\n",
    "Linear Equations using Simplex.ipynb\n",
    "\n",
    "### Instructions\n",
    "Present a model involving minimization that contains three or more equations (ideally a system that you have come across professionally or personally) and solve the system using the Simplex Method and again using Python. Be sure to share your Python code and output.\n",
    "\n",
    "### Reference\n",
    "I will be using a modification of my example from Week2. See details here:\n",
    "<a href='https://github.com/knightman/MSPA-PREDICT400/blob/master/Wk2/Wk2LinearEq.md'>Wk2 Linear Eq Example</a>\n",
    "\n",
    "Soln Sheet:\n",
    "<img src=\"http://andrewdavidknight.com/projects/mspa-predict400/wk2/SolutionNotes.jpg\" \n",
    "    alt=\"Wk2 Solution Notes\" width=\"400\" height=\"400\" border=\"0\">\n"
   ]
  },
  {
   "cell_type": "code",
   "execution_count": null,
   "metadata": {},
   "outputs": [],
   "source": []
  }
 ],
 "metadata": {
  "kernelspec": {
   "display_name": "Python 3",
   "language": "python",
   "name": "python3"
  },
  "language_info": {
   "codemirror_mode": {
    "name": "ipython",
    "version": 3
   },
   "file_extension": ".py",
   "mimetype": "text/x-python",
   "name": "python",
   "nbconvert_exporter": "python",
   "pygments_lexer": "ipython3",
   "version": "3.5.2"
  }
 },
 "nbformat": 4,
 "nbformat_minor": 2
}
