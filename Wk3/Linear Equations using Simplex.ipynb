{
 "cells": [
  {
   "cell_type": "markdown",
   "metadata": {},
   "source": [
    "\n",
    "## Linear Equations using the Simplex Method\n",
    "Version/Date: Oct 3, 2017\n",
    "\n",
    "### Exercise\n",
    ">PREDICT_400-DL_SEC56\n",
    ">Week3 Module\n",
    "\n",
    "### File(s)\n",
    "Linear Equations using Simplex.ipynb\n",
    "\n",
    "### Instructions\n",
    "Present a model involving minimization that contains three or more equations (ideally a system that you have come across professionally or personally) and solve the system using the Simplex Method and again using Python. Be sure to share your Python code and output.\n",
    "\n",
    "### Reference\n",
    "I will be using a modification of my example from Week2. See details here:\n",
    "<a href='http://andrewdavidknight.com/projects/mspa-predict400/wk2/Wk2LinearEq.html'>Wk2 Linear Eq Example</a>\n",
    "\n",
    "### Description\n",
    "The code below shows an example of three product models and an attempt to minimize the cost."
   ]
  },
  {
   "cell_type": "markdown",
   "metadata": {},
   "source": [
    "#### Goal: Cost minimization of the objective function: C = 18y1 + 20y2 + 25y3 \n",
    "This function represents the total cost for three different products manufactured and sold by our company.\n",
    "\n",
    "The constraints for this linear program example:\n",
    "\n",
    "> 120y1 + 160y2 + 200y3 >= 75000\n",
    "\n",
    "> yy1 + y2 + y3 >= 450\n",
    "\n",
    "> y1 + 2y2 >= 300\n",
    "\n",
    "> y1, y2, y3 >=0\n",
    "\n",
    "The first constraint function gives the total revenue target (at least $75,000 USD). The second limiting function gives the minimum total number of units we want to produce with this batch (at least 450). Also given demand for the first two models is high, we must make at least 300 between y1 and y2 units. Based on past sales, we expect we'll need about twice as many y2 as y1 models. Obviously, y1, y2, y3 all must be >= 0.\n",
    "\n",
    "#### How many of each units should we produce to limit minimize our costs?\n",
    "\n"
   ]
  },
  {
   "cell_type": "code",
   "execution_count": 69,
   "metadata": {},
   "outputs": [
    {
     "name": "stdout",
     "output_type": "stream",
     "text": [
      "[[-120, -160, -200], [-1, -1, -1], [-1, -2, 0]]\n",
      "[-75000, -450, -300]\n",
      "Optimization terminated successfully.\n",
      "         Current function value: 9375.000000 \n",
      "         Iterations: 4\n",
      "     fun: 9375.0\n",
      " message: 'Optimization terminated successfully.'\n",
      "     nit: 4\n",
      "   slack: array([   0.,    0.,  450.])\n",
      "  status: 0\n",
      " success: True\n",
      "       x: array([   0.,  375.,   75.])\n"
     ]
    }
   ],
   "source": [
    "# Cost objective function is:\n",
    "# C = 18y1 + 20y2 + 25y3\n",
    "# Rewrite Constraints:\n",
    "# Revenue: 120x1 + 160x2 + 200x3 >=75000\n",
    "# Numbers: x1 + x2 + x3 >= 450\n",
    "# Condition: x1 + 2x2 >= 300\n",
    "# x1,x2,x3 >= 0\n",
    "\n",
    "# coefficients of the objective function\n",
    "z = [18,20,25]\n",
    "\n",
    "# left-hand coefficients - tableau matrix\n",
    "A = [[-120,-160,-200],[-1,-1,-1],[-1,-2,0]]\n",
    "print(A)\n",
    "\n",
    "# right-hand coefficients - \n",
    "b = [-75000,-450,-300]\n",
    "print(b)\n",
    "\n",
    "from scipy.optimize import linprog as lp\n",
    "\n",
    "x1_bounds = (0,None)\n",
    "x2_bounds = (0,None)\n",
    "x3_bounds = (0,None)\n",
    "\n",
    "res = lp(z, A_ub=A, b_ub=b, bounds=(x1_bounds, x2_bounds, x3_bounds), method='simplex', options={\"disp\": True})\n",
    "print(res)\n"
   ]
  },
  {
   "cell_type": "code",
   "execution_count": 70,
   "metadata": {},
   "outputs": [],
   "source": [
    "# Based on these calculations, if we want to hit our total revenue target of $75,000, meeting the other constraints and \n",
    "# minimizing cost, we should produce zero y1 units, 375 y2 units and 75 y3 units. The min cost would be approximately $9,375."
   ]
  }
 ],
 "metadata": {
  "kernelspec": {
   "display_name": "Python 3",
   "language": "python",
   "name": "python3"
  },
  "language_info": {
   "codemirror_mode": {
    "name": "ipython",
    "version": 3
   },
   "file_extension": ".py",
   "mimetype": "text/x-python",
   "name": "python",
   "nbconvert_exporter": "python",
   "pygments_lexer": "ipython3",
   "version": "3.5.2"
  }
 },
 "nbformat": 4,
 "nbformat_minor": 2
}
