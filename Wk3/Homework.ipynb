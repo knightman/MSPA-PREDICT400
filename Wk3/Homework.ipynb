{
 "cells": [
  {
   "cell_type": "markdown",
   "metadata": {},
   "source": [
    "\n",
    "## Week 3 Homework Practice Ch3\n",
    "Version/Date: Oct 3, 2017\n",
    "\n",
    "### Exercise\n",
    ">PREDICT_400-DL_SEC56\n",
    ">Wk3\n",
    "\n",
    "### File(s)\n",
    "Homework.ipynb\n"
   ]
  },
  {
   "cell_type": "code",
   "execution_count": 35,
   "metadata": {},
   "outputs": [
    {
     "data": {
      "image/png": "[encoded data removed]",
      "text/plain": [
       "<matplotlib.figure.Figure at 0x7f43d0c20208>"
      ]
     },
     "metadata": {},
     "output_type": "display_data"
    }
   ],
   "source": [
    "import numpy as np\n",
    "import matplotlib.pyplot as plt\n",
    "\n",
    "# Use python functions to define my linear functions to plot\n",
    "def f1(x):\n",
    "    #return np.exp(-t) * np.cos(2*np.pi*t)\n",
    "    return (1/2) * x + 2\n",
    "\n",
    "def f2(x):\n",
    "    #return np.sin(2*np.pi*x)\n",
    "    return -2 * x + 4\n",
    "\n",
    "x1 = np.arange(-2.0, 5.0, 0.1)\n",
    "x2 = np.arange(-2.0, 5.0, 0.1)\n",
    "\n",
    "\n",
    "plt.figure(1)\n",
    "plt.subplot(211)\n",
    "#plt.plot(t1, f1(t1), 'bo', t2, f(t2), 'k')\n",
    "plt.plot(x1, f1(x1), 'b', x2, f2(x2), 'r')\n",
    "\n",
    "#plt.subplot(212)\n",
    "#plt.plot(t2, np.cos(2*np.pi*t2), 'r--')\n",
    "plt.show()"
   ]
  },
  {
   "cell_type": "code",
   "execution_count": null,
   "metadata": {},
   "outputs": [],
   "source": []
  },
  {
   "cell_type": "code",
   "execution_count": null,
   "metadata": {},
   "outputs": [],
   "source": []
  }
 ],
 "metadata": {
  "kernelspec": {
   "display_name": "Python 3",
   "language": "python",
   "name": "python3"
  },
  "language_info": {
   "codemirror_mode": {
    "name": "ipython",
    "version": 3
   },
   "file_extension": ".py",
   "mimetype": "text/x-python",
   "name": "python",
   "nbconvert_exporter": "python",
   "pygments_lexer": "ipython3",
   "version": "3.5.2"
  }
 },
 "nbformat": 4,
 "nbformat_minor": 2
}
