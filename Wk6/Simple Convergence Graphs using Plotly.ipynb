{
 "cells": [
  {
   "cell_type": "markdown",
   "metadata": {},
   "source": [
    "## Week6\n",
    "Version/Date: Oct 24, 2017\n",
    "\n",
    "### Exercise\n",
    "> PREDICT_400-DL_SEC56\n",
    "> Week6 Discussion\n",
    "\n",
    "### File(s)\n",
    "Simple Convergence Graphs using Plotly.ipynb\n",
    "\n",
    "### Instructions\n",
    "In your own words, explain the difference between average rate of change and instantaneous rate of change. Do they have anything in common? How is average rate of change used in determining instantaneous rate of change? Share with us a specific application of average rate of change and a specific application of instantaneous rate of change. Ideally choose something you’ve encountered in your work or perhaps something that interests you.\n",
    "\n",
    "### Description\n",
    "Why Plotly? Well, it's an interesting alternative to matplotlib pyplot that I've been meaning to try.\n",
    "\n",
    "### Explanation & Example"
   ]
  },
  {
   "cell_type": "markdown",
   "metadata": {},
   "source": [
    "In my own simplistic view, the only difference between average rate of change and instantaneous rate of change is simply the length of the interval the over which the observation is made.\n",
    "\n",
    "I took an example involving rate of change in descent. When the weather starts getting colder, nothing interests me more than looking forward to my next ski trip. When it starts snowing I want to be outside skiing down the mountain.\n",
    "\n",
    "Let's say I take a given ski run down a mountain and want to know what my rate of descent will be through a given portion of the run. If I assume my speed down the a section of the hill will be directly proportional to the slope of run through that same section, then I can predict which part of the run will be my favorite based on which portion is the *fastest*... childish perhaps but let's go with it. Also to keep this example simple and relevant, I'll ignore other variables like changing surface conditions, obstacles, or the fact that my speed at any given section is dependent upon my speed entering that section of the run. I've made up a completely fictious run profile below to illustrate.\n",
    "\n",
    "As you see from the various slopes, the interval span determines the slope and as the interval span decreases, the it gets closer to resembling the slope at a single point on the hill. Thus the instanteous rate of change at a given point will be determined by the average rate of change for the two points on either side of that instant *as the span between those two points diminishes to zero*.\n",
    "\n",
    "So if I want to know how quickly I'm moving down the, um, slope (pun absolutely intended) at a given point then I simply need to look at the average rate of descent across two points of equal distance fromme up the hill and down the hill from my exact location. The more points I define on the continuous ski slope the easier it is to approximate the instanteous rate of descent at a given point.\n"
   ]
  },
  {
   "cell_type": "code",
   "execution_count": 49,
   "metadata": {},
   "outputs": [],
   "source": [
    "# pip install plotly first if you havent already done so. \n",
    "# This cell will produce an error on the imports if not installed.\n",
    "import plotly.plotly\n",
    "from plotly.graph_objs import Scatter, Layout"
   ]
  },
  {
   "cell_type": "code",
   "execution_count": 54,
   "metadata": {},
   "outputs": [
    {
     "data": {
      "text/html": [
       "<script>requirejs.config({paths: { 'plotly': ['https://cdn.plot.ly/plotly-latest.min']},});if(!window.Plotly) {{require(['plotly'],function(plotly) {window.Plotly=plotly;});}}</script>"
      ],
      "text/vnd.plotly.v1+html": [
       "<script>requirejs.config({paths: { 'plotly': ['https://cdn.plot.ly/plotly-latest.min']},});if(!window.Plotly) {{require(['plotly'],function(plotly) {window.Plotly=plotly;});}}</script>"
      ]
     },
     "metadata": {},
     "output_type": "display_data"
    },
    {
     "data": {
      "application/vnd.plotly.v1+json": {
       "data": [
        {
         "line": {
          "color": "#bc42f4"
         },
         "name": "entire run",
         "type": "scatter",
         "x": [
          1,
          2,
          3,
          4,
          5,
          6,
          7,
          8,
          9,
          10,
          11,
          12
         ],
         "y": [
          5,
          4.9,
          4.2,
          4.1,
          4,
          2.8,
          2.6,
          2.6,
          2.5,
          1.8,
          1.2,
          1
         ]
        },
        {
         "line": {
          "color": "#41c1f4"
         },
         "name": "top half - slope is -0.44",
         "type": "scatter",
         "x": [
          1,
          6
         ],
         "y": [
          5,
          2.8
         ]
        },
        {
         "line": {
          "color": "#41f49d"
         },
         "name": "slope pt1 - slope is -0.4",
         "type": "scatter",
         "x": [
          2,
          6
         ],
         "y": [
          4.9,
          2.8
         ]
        },
        {
         "line": {
          "color": "#f44641"
         },
         "name": "slope pt2 - slope is -0.1",
         "type": "scatter",
         "x": [
          3,
          5
         ],
         "y": [
          4.2,
          4
         ]
        }
       ],
       "layout": {
        "title": "mountain run profile"
       }
      },
      "text/html": [
       "<div id=\"a07fec6d-7d64-45ab-9dc5-6a62936b2cef\" style=\"height: 525px; width: 100%;\" class=\"plotly-graph-div\"></div><script type=\"text/javascript\">require([\"plotly\"], function(Plotly) { window.PLOTLYENV=window.PLOTLYENV || {};window.PLOTLYENV.BASE_URL=\"https://plot.ly\";Plotly.newPlot(\"a07fec6d-7d64-45ab-9dc5-6a62936b2cef\", [{\"type\": \"scatter\", \"y\": [5, 4.9, 4.2, 4.1, 4, 2.8, 2.6, 2.6, 2.5, 1.8, 1.2, 1], \"x\": [1, 2, 3, 4, 5, 6, 7, 8, 9, 10, 11, 12], \"line\": {\"color\": \"#bc42f4\"}, \"name\": \"entire run\"}, {\"type\": \"scatter\", \"y\": [5, 2.8], \"x\": [1, 6], \"line\": {\"color\": \"#41c1f4\"}, \"name\": \"top half - slope is -0.44\"}, {\"type\": \"scatter\", \"y\": [4.9, 2.8], \"x\": [2, 6], \"line\": {\"color\": \"#41f49d\"}, \"name\": \"slope pt1 - slope is -0.4\"}, {\"type\": \"scatter\", \"y\": [4.2, 4], \"x\": [3, 5], \"line\": {\"color\": \"#f44641\"}, \"name\": \"slope pt2 - slope is -0.1\"}], {\"title\": \"mountain run profile\"}, {\"linkText\": \"Export to plot.ly\", \"showLink\": true})});</script>"
      ],
      "text/vnd.plotly.v1+html": [
       "<div id=\"a07fec6d-7d64-45ab-9dc5-6a62936b2cef\" style=\"height: 525px; width: 100%;\" class=\"plotly-graph-div\"></div><script type=\"text/javascript\">require([\"plotly\"], function(Plotly) { window.PLOTLYENV=window.PLOTLYENV || {};window.PLOTLYENV.BASE_URL=\"https://plot.ly\";Plotly.newPlot(\"a07fec6d-7d64-45ab-9dc5-6a62936b2cef\", [{\"type\": \"scatter\", \"y\": [5, 4.9, 4.2, 4.1, 4, 2.8, 2.6, 2.6, 2.5, 1.8, 1.2, 1], \"x\": [1, 2, 3, 4, 5, 6, 7, 8, 9, 10, 11, 12], \"line\": {\"color\": \"#bc42f4\"}, \"name\": \"entire run\"}, {\"type\": \"scatter\", \"y\": [5, 2.8], \"x\": [1, 6], \"line\": {\"color\": \"#41c1f4\"}, \"name\": \"top half - slope is -0.44\"}, {\"type\": \"scatter\", \"y\": [4.9, 2.8], \"x\": [2, 6], \"line\": {\"color\": \"#41f49d\"}, \"name\": \"slope pt1 - slope is -0.4\"}, {\"type\": \"scatter\", \"y\": [4.2, 4], \"x\": [3, 5], \"line\": {\"color\": \"#f44641\"}, \"name\": \"slope pt2 - slope is -0.1\"}], {\"title\": \"mountain run profile\"}, {\"linkText\": \"Export to plot.ly\", \"showLink\": true})});</script>"
      ]
     },
     "metadata": {},
     "output_type": "display_data"
    },
    {
     "name": "stdout",
     "output_type": "stream",
     "text": [
      "From this graph we would assume the rate of descent at point (4,4.1) is -0.1\n",
      "As we converge on a given point, the average rate approaches the instanteous rate.\n"
     ]
    }
   ],
   "source": [
    "# simple offline plot for slope - note the iplot method for jupyter as opposed to the normal plot.\n",
    "plotly.offline.init_notebook_mode(connected=True)\n",
    "\n",
    "# Made up scatter plot of the entire mountain ski run profile\n",
    "full_run = Scatter(x=[1, 2, 3, 4, 5, 6, 7, 8, 9, 10, 11, 12], \n",
    "                           y=[5, 4.9, 4.2, 4.1, 4, 2.8, 2.6, 2.6, 2.5, 1.8, 1.2, 1], name='entire run', \n",
    "                           line=dict(color='#bc42f4'))\n",
    "\n",
    "top_half_name_slope = 'top half - slope is ' + str(round((2.8-5)/(6-1),2))\n",
    "top_half = Scatter(x=[1, 6], y=[5, 2.8], name=top_half_name_slope, line=dict(color='#41c1f4'))\n",
    "bottom_half_name_slope = 'bottom half - slope is ' + str(round((1-2.8)/(12-6),2))\n",
    "bottom_half = Scatter(x=[6,12], y=[2.8,1], name=bottom_half_name_slope, line=dict(color='#41f1f4'))\n",
    "\n",
    "top_third_name_slope = 'top third - slope is ' + str(round((4.1-5)/(4-1),2))\n",
    "top_third = Scatter(x=[1, 4], y=[5, 4.1], name=top_third_name_slope, line=dict(color='#41f49d'))\n",
    "middle_third_name_slope = 'middle third - slope is ' + str(round((2.6-4.1)/(8-4),2))\n",
    "middle_third = Scatter(x=[4,8], y=[4.1,2.6], name=middle_third_name_slope, line=dict(color='#4ff441'))\n",
    "bottom_third_name_slope = 'bottom third - slope is ' + str(round((1-2.6)/(12-8),2))\n",
    "bottom_third = Scatter(x=[8,12], y=[2.6,1], name=bottom_third_name_slope, line=dict(color='#b5f441'))\n",
    "\n",
    "top_fourth_name_slope = 'top fourth - slope is ' + str(round((4.2-5)/(3-1),2))\n",
    "top_fourth = Scatter(x=[1, 3], y=[5, 4.2], name=top_fourth_name_slope, line=dict(color='#f4cd41'))\n",
    "midhigh_fourth_name_slope = 'midhigh fourth - slope is ' + str(round((2.8-4.2)/(6-3),2))\n",
    "midhigh_fourth = Scatter(x=[3, 6], y=[4.2, 2.8], name=midhigh_fourth_name_slope, line=dict(color='#f4ac41'))\n",
    "midlow_fourth_name_slope = 'midlow fourth - slope is ' + str(round((2.5-2.8)/(9-6),2))\n",
    "midlow_fourth = Scatter(x=[6, 9], y=[2.8, 2.5], name=midlow_fourth_name_slope, line=dict(color='#f48241'))\n",
    "bottom_fourth_name_slope = 'bottom fourth - slope is ' + str(round((1-2.5)/(12-9),2))\n",
    "bottom_fourth = Scatter(x=[9, 12], y=[2.5, 1], name=bottom_fourth_name_slope, line=dict(color='#f44641'))\n",
    "\n",
    "# slope between the second point and the sixth point\n",
    "slope_part1_label = 'slope pt1 - slope is ' + str(round((4.2-5)/(3-1),2))\n",
    "slope_part1 = Scatter(x=[2, 6], y=[4.9, 2.8], name=slope_part1_label, line=dict(color='#41f49d'))\n",
    "# slope between the third point and the fifth point\n",
    "slope_part2_label = 'slope pt2 - slope is ' + str(round((4-4.2)/(5-3),2))\n",
    "slope_part2 = Scatter(x=[3, 5], y=[4.2, 4], name=slope_part2_label, line=dict(color='#f44641'))\n",
    "\n",
    "#slope_part3_label = 'slope pt3 - slope is ' + str(round((4.1-4.2)/(4-3),2))\n",
    "#slope_part3 = Scatter(x=[3, 4], y=[4.2, 4.1], name=slope_part3_label, line=dict(color='#f48241'))\n",
    "#slope_part4_label = 'slope pt4 - slope is ' + str(round((4-4.1)/(5-4),2))\n",
    "#slope_part4 = Scatter(x=[4, 5], y=[4.1, 4], name=slope_part4_label, line=dict(color='#f44641'))\n",
    "\n",
    "plotly.offline.iplot({\n",
    "    \"data\": [full_run, top_half, slope_part1, slope_part2],\n",
    "    \"layout\": Layout(title=\"mountain run profile\")\n",
    "})\n",
    "\n",
    "print('From this graph we would assume the rate of descent at point (4,4.1) is ' + \n",
    "      str(round((4-4.2)/(5-3),2)))\n",
    "print('As we converge on a given point, the average rate approaches the instanteous rate.')"
   ]
  },
  {
   "cell_type": "markdown",
   "metadata": {},
   "source": [
    "This is a simple example and so it is easy to see the relationship between average and instanteous rate of change. However, if we wanted to find teh instanteous rate of change at the point (5,4) we would need to know the exact points on the graph as we get closer and closer to the that point from either side. Alternatively, if we have a function that describes the points plotted for all real numbers, then we can find the derivative at that point and it will tell us exactly how quickly I'm descending the mountain at that exact moment. Taking an average over two points may not be accurate if the distance between those two observation points is high. This would not account from variations in rate of change between those two points."
   ]
  }
 ],
 "metadata": {
  "kernelspec": {
   "display_name": "Python 3",
   "language": "python",
   "name": "python3"
  },
  "language_info": {
   "codemirror_mode": {
    "name": "ipython",
    "version": 3
   },
   "file_extension": ".py",
   "mimetype": "text/x-python",
   "name": "python",
   "nbconvert_exporter": "python",
   "pygments_lexer": "ipython3",
   "version": "3.5.2"
  }
 },
 "nbformat": 4,
 "nbformat_minor": 2
}
